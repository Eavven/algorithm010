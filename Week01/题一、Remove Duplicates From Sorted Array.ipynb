{
 "cells": [
  {
   "cell_type": "code",
   "execution_count": null,
   "metadata": {},
   "outputs": [],
   "source": [
    "##使用快慢指针，时间复杂度O（n），空间复杂度O（1）\n",
    "class Solution:\n",
    "    def removeDuplicates(self, nums: List[int]) -> int:\n",
    "        if not nums:\n",
    "            return 0 \n",
    "        slow = fast = 0\n",
    "        length = len(nums)\n",
    "        while fast < length:\n",
    "            if nums[slow] == nums[fast]:\n",
    "                fast += 1\n",
    "            else:\n",
    "                slow += 1\n",
    "                nums[slow] = nums[fast]\n",
    "                fast += 1\n",
    "        return slow + 1"
   ]
  },
  {
   "cell_type": "code",
   "execution_count": 1,
   "metadata": {},
   "outputs": [
    {
     "ename": "SyntaxError",
     "evalue": "invalid syntax (<ipython-input-1-f02630ee0b45>, line 4)",
     "output_type": "error",
     "traceback": [
      "\u001b[1;36m  File \u001b[1;32m\"<ipython-input-1-f02630ee0b45>\"\u001b[1;36m, line \u001b[1;32m4\u001b[0m\n\u001b[1;33m    nums[a++] = 1\u001b[0m\n\u001b[1;37m            ^\u001b[0m\n\u001b[1;31mSyntaxError\u001b[0m\u001b[1;31m:\u001b[0m invalid syntax\n"
     ]
    }
   ],
   "source": [
    "a = 0 \n",
    "nums = []\n",
    "while a<4:\n",
    "    nums[a++] = 1 \n",
    "\n",
    "#python里面没有a++这种说法，只有a += 1"
   ]
  },
  {
   "cell_type": "code",
   "execution_count": null,
   "metadata": {},
   "outputs": [],
   "source": []
  }
 ],
 "metadata": {
  "kernelspec": {
   "display_name": "Python 3",
   "language": "python",
   "name": "python3"
  },
  "language_info": {
   "codemirror_mode": {
    "name": "ipython",
    "version": 3
   },
   "file_extension": ".py",
   "mimetype": "text/x-python",
   "name": "python",
   "nbconvert_exporter": "python",
   "pygments_lexer": "ipython3",
   "version": "3.6.10"
  }
 },
 "nbformat": 4,
 "nbformat_minor": 4
}
