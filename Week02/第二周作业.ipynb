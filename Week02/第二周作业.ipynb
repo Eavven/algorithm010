{
 "cells": [
  {
   "cell_type": "code",
   "execution_count": null,
   "metadata": {},
   "outputs": [],
   "source": [
    "#快排\n",
    "class Solution(object):\n",
    "    def getLeastNumbers(self, arr, k):\n",
    "        if k > len(arr) or k <= 0 :\n",
    "            return []\n",
    "        index = self.quickSort(arr,0,len(arr)-1)\n",
    "        start = 0\n",
    "        end = len(arr) - 1\n",
    "        while index + 1 != k :\n",
    "            if index + 1 < k :\n",
    "                start = index + 1 \n",
    "                index = self.quickSort(arr,index+1,end)\n",
    "            elif index + 1 > k:\n",
    "                end = index - 1\n",
    "                index = self.quickSort(arr,start,end)\n",
    "        return arr[:k]\n",
    "    def quickSort(self,arr,start,end):\n",
    "        low = start\n",
    "        high = end\n",
    "        temp = arr[start]  ## 本来写end是错的 后来改成start\n",
    "        while low < high:\n",
    "            while low < high and temp <= arr[high]:\n",
    "                high -= 1\n",
    "            arr[low] = arr[high]\n",
    "            while low < high and temp > arr[low]:\n",
    "                low += 1\n",
    "            arr[high] = arr[low]\n",
    "        arr[low] = temp\n",
    "        return low\n"
   ]
  },
  {
   "cell_type": "code",
   "execution_count": 1,
   "metadata": {},
   "outputs": [
    {
     "name": "stdout",
     "output_type": "stream",
     "text": [
      "3\n",
      "4\n",
      "5\n"
     ]
    }
   ],
   "source": [
    "for i in range(3,6):\n",
    "    print(i)"
   ]
  },
  {
   "cell_type": "markdown",
   "metadata": {},
   "source": [
    "### 两数之和\n",
    "\n",
    "1、暴力解,枚举所有两个数加起来的情况，如果等于target就return\n",
    "\n",
    "2、两遍哈希，第一次遍历整个数组建立哈希表，第二次去查看\n",
    "\n",
    "3、一遍哈希"
   ]
  },
  {
   "cell_type": "code",
   "execution_count": null,
   "metadata": {},
   "outputs": [],
   "source": [
    "#暴力解\n",
    "class Solution:\n",
    "    def twoSum(self, nums: List[int], target: int) -> List[int]:\n",
    "        length = len(nums) \n",
    "        for j in range(length):\n",
    "            for i in range(j+1,length):\n",
    "                res = nums[i] + nums[j]\n",
    "                if res == target:\n",
    "                    return [j,i]"
   ]
  },
  {
   "cell_type": "code",
   "execution_count": null,
   "metadata": {},
   "outputs": [],
   "source": [
    "#两边哈希,第一次建立哈希表，第二次查找\n",
    "class Solution(object):\n",
    "    def twoSum(self, nums, target):\n",
    "        dic = {}\n",
    "        for i in range(len(nums)):\n",
    "            dic[nums[i]] = i \n",
    "        for j in range(len(nums)):\n",
    "            if target -nums[j] in dic and dic[target - nums[j]] != j:\n",
    "                return [dic[target - nums[j]],j]"
   ]
  },
  {
   "cell_type": "code",
   "execution_count": null,
   "metadata": {},
   "outputs": [],
   "source": [
    "#一遍哈希，键则是target - a，值是a在nums里的索引\n",
    "class Solution(object):\n",
    "    def twoSum(self, nums, target):\n",
    "        if len(nums) <= 1:\n",
    "            return False\n",
    "        dic = {}\n",
    "        for i in range(len(nums)):\n",
    "            if nums[i] in dic:\n",
    "                return [dic[nums[i]],i]\n",
    "            else:\n",
    "                dic[target - nums[i]] = i\n",
    "        return False\n",
    "\n",
    "#更简短代码形式\n",
    "class Solution(object):\n",
    "    def twoSum(self, nums, target):\n",
    "        dic = {}\n",
    "        for i,n in enumerate(nums):\n",
    "            if n in dic:\n",
    "                return [dic[n],i]\n",
    "            else:\n",
    "                dic[target - n] = i"
   ]
  },
  {
   "cell_type": "markdown",
   "metadata": {},
   "source": [
    "### 字母异位词分组"
   ]
  },
  {
   "cell_type": "markdown",
   "metadata": {},
   "source": [
    "本来想用list，写一个函数isAnagrams判断是否是Anagram，先取出第一个单词，然后遍历列表依次比较，是的话就取出来然后在原有列表中剔除，但是修改了好几次，仍然会out of index"
   ]
  },
  {
   "cell_type": "code",
   "execution_count": 3,
   "metadata": {},
   "outputs": [],
   "source": [
    "#参考国际版题解，国际版直接return dic,values，但是这种格式不是list\n",
    "#因此加了一个遍历来数据，但是有没有更高效的方法\n",
    "class Solution:\n",
    "    def groupAnagrams(self, strs: List[str]) -> List[List[str]]:\n",
    "        dic = {}\n",
    "        for w in sorted(strs):\n",
    "            key = tuple(sorted(w))\n",
    "            #tuple is used because sorted returns a list which cannot be hashed but tuples can be hashed\n",
    "            dic[key] = dic.get(key, []) + [w]\n",
    "        res = []\n",
    "        for i in dic.values():\n",
    "            res.append(i)\n",
    "        return res "
   ]
  },
  {
   "cell_type": "markdown",
   "metadata": {},
   "source": [
    "### N叉树的层序遍历"
   ]
  },
  {
   "cell_type": "code",
   "execution_count": 1,
   "metadata": {},
   "outputs": [],
   "source": [
    "#参考国际版题解，没有想到一层遍历完之后，可以直接将queue全部替换为孩子，还是有一个个元素放入和弹出的想法\n",
    "\"\"\"\n",
    "# Definition for a Node.\n",
    "class Node:\n",
    "    def __init__(self, val=None, children=None):\n",
    "        self.val = val\n",
    "        self.children = children\n",
    "\"\"\"\n",
    "\n",
    "class Solution:\n",
    "    def levelOrder(self, root: 'Node') -> List[List[int]]:\n",
    "        if not root:\n",
    "            return []\n",
    "        queue,res = [root],[]\n",
    "        while queue:\n",
    "            res.append([node.val for node in queue])\n",
    "            queue = [child for node in queue for child in node.children if child]\n",
    "        return res"
   ]
  },
  {
   "cell_type": "code",
   "execution_count": null,
   "metadata": {},
   "outputs": [],
   "source": [
    "###多叉树的后序，疑惑点在于不知道孩子的顺序要怎么取\n",
    "\n",
    "#递归\n",
    "class Solution:\n",
    "    def postorder(self, root: 'Node') -> List[int]:\n",
    "        res = []\n",
    "        self.helper(root,res)\n",
    "        return res\n",
    "\n",
    "    def helper(self,root,res):\n",
    "        if root:\n",
    "            for child in root.children:\n",
    "                self.helper(child,res)\n",
    "            res.append(root.val)\n",
    "#迭代\n",
    "class Solution:\n",
    "    def postorder(self, root: 'Node') -> List[int]:\n",
    "        if root == None:\n",
    "            return []\n",
    "        res = []\n",
    "        stack = [root]\n",
    "        while stack:\n",
    "            curr = stack.pop()\n",
    "            res.append(curr.val)\n",
    "            stack.extend(curr.children)\n",
    "        return res[::-1]   "
   ]
  },
  {
   "cell_type": "markdown",
   "metadata": {},
   "source": [
    "### 二叉树前序遍历"
   ]
  },
  {
   "cell_type": "code",
   "execution_count": null,
   "metadata": {},
   "outputs": [],
   "source": [
    "class Solution:\n",
    "    def preorderTraversal(self, root: TreeNode) -> List[int]:\n",
    "        res = []\n",
    "        self.helper(root,res)\n",
    "        return res\n",
    "\n",
    "    def helper(self,root,res):\n",
    "        if root:\n",
    "            res.append(root.val)\n",
    "            self.helper(root.left,res)\n",
    "            self.helper(root.right,res)\n",
    "            \n",
    "#迭代\n",
    "class Solution:\n",
    "    def preorderTraversal(self, root: TreeNode) -> List[int]:\n",
    "        res,stack = [],[]\n",
    "        while True:\n",
    "            while root:\n",
    "                res.append(root.val)\n",
    "                stack.append(root)\n",
    "                root = root.left\n",
    "            if not stack:\n",
    "                return res\n",
    "            node = stack.pop()\n",
    "            root = node.right"
   ]
  },
  {
   "cell_type": "markdown",
   "metadata": {},
   "source": [
    "### 丑数\n",
    "1 2 3 4 5 6(1,2） 8(1,3) 10(1,4) 12(2,3) 12(1,5) 15(2,4) 16(1,7) \n",
    "试着通过上面一串找规律，但还是不行。发现题解里用了一个min，直接比较即可"
   ]
  },
  {
   "cell_type": "code",
   "execution_count": null,
   "metadata": {},
   "outputs": [],
   "source": [
    "##直接参考的官方题解\n",
    "class Solution:\n",
    "    def nthUglyNumber(self, n: int) -> int:\n",
    "        dp, a, b, c = [1] * n, 0, 0, 0\n",
    "        for i in range(1, n):\n",
    "            n2, n3, n5 = dp[a] * 2, dp[b] * 3, dp[c] * 5\n",
    "            dp[i] = min(n2, n3, n5)\n",
    "            if dp[i] == n2: a += 1\n",
    "            if dp[i] == n3: b += 1\n",
    "            if dp[i] == n5: c += 1\n",
    "        return dp[-1]\n"
   ]
  },
  {
   "cell_type": "code",
   "execution_count": null,
   "metadata": {},
   "outputs": [],
   "source": []
  }
 ],
 "metadata": {
  "kernelspec": {
   "display_name": "Python 3",
   "language": "python",
   "name": "python3"
  },
  "language_info": {
   "codemirror_mode": {
    "name": "ipython",
    "version": 3
   },
   "file_extension": ".py",
   "mimetype": "text/x-python",
   "name": "python",
   "nbconvert_exporter": "python",
   "pygments_lexer": "ipython3",
   "version": "3.6.10"
  }
 },
 "nbformat": 4,
 "nbformat_minor": 4
}
