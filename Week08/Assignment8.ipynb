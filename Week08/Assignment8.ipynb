{
 "cells": [
  {
   "cell_type": "markdown",
   "metadata": {},
   "source": [
    "## 2的幂"
   ]
  },
  {
   "cell_type": "code",
   "execution_count": null,
   "metadata": {},
   "outputs": [],
   "source": [
    "class Solution:\n",
    "    def isPowerOfTwo(self, n: int) -> bool:\n",
    "        return n > 0 and n&(n-1)==0\n",
    "    \n",
    "class Solution:\n",
    "    def isPowerOfTwo(self, n: int) -> bool:\n",
    "        return n > 0 and bin(n).count('1') == 1"
   ]
  },
  {
   "cell_type": "markdown",
   "metadata": {},
   "source": [
    "## n皇后"
   ]
  },
  {
   "cell_type": "code",
   "execution_count": null,
   "metadata": {},
   "outputs": [],
   "source": [
    "##转自老师上课代码\n",
    "class Solution:\n",
    "    def totalNQueens(self, n: int) -> int:\n",
    "        if n < 1:return []\n",
    "        self.count = 0\n",
    "        self.DFS(n,0,0,0,0)\n",
    "        return self.count\n",
    "    \n",
    "    def DFS(self,n,row,col,pie,na):\n",
    "        if row >= n :\n",
    "            self.count += 1\n",
    "            return \n",
    "        \n",
    "        bits = (~(col|pie|na)&((1 << n)-1))  #得到当前所有的空位\n",
    "        \n",
    "        #((1 << n)-1) 得到n个1，意味着这一行的n个位置都可以放置皇后\n",
    "        #~(col|pie|na) 三者取或运算，统计出不能放的位置，再取反后就是能放置的位置\n",
    "        while bits:\n",
    "            p = bits & -bits #取最低位的1，即先拿第一个能放置皇后的位置\n",
    "            bits = bits & (bits - 1) #清零最低位的1，更新状态\n",
    "            self.DFS(n,row + 1,col + p,(pie + p)<<1,(na + p) >> 1)\n",
    "            #n是依然每行有n位置，col是不能放的位置，这里又对col进行了更新，保留原始不能放的位置，又新增了一个不能放的位置p"
   ]
  },
  {
   "cell_type": "code",
   "execution_count": 30,
   "metadata": {},
   "outputs": [
    {
     "name": "stdout",
     "output_type": "stream",
     "text": [
      "0b111111\n",
      "1\n",
      "0b111110\n",
      "0b0\n",
      "0b111100\n"
     ]
    }
   ],
   "source": [
    "bits = (~(0|0|0)&((1 << 6)-1))\n",
    "print(bin(bits)) #假设n为6，那么初始情况第一行的6个位置都能放\n",
    "p = bits & -bits\n",
    "print(p)   #取出1\n",
    "bits = bits & (bits - 1) #最后一个位置放了皇后\n",
    "print(bin(bits))  \n",
    "col = 0 + p        #col = 000001  第一列不能放皇后\n",
    "pie = (0 + p)<<1   # pie = 000010 第二列不能放皇后\n",
    "na = (0 + p)>>1   #0向右移动1一位还是0 na = 000000 \n",
    "bits = (~(col|pie|na)&((1 << 6)-1))\n",
    "print(bin(bits))"
   ]
  },
  {
   "cell_type": "markdown",
   "metadata": {},
   "source": [
    "### LRU缓存机制"
   ]
  },
  {
   "cell_type": "code",
   "execution_count": null,
   "metadata": {},
   "outputs": [],
   "source": [
    "##转自https://leetcode-cn.com/problems/lru-cache/solution/lruhuan-cun-ji-zhi-by-leetcode-solution/\n",
    "\n",
    "## 使用python内置的数据结构\n",
    "class LRUCache(collections.OrderedDict):\n",
    "\n",
    "    def __init__(self, capacity: int):\n",
    "        super().__init__()\n",
    "        self.capacity = capacity\n",
    "\n",
    "\n",
    "    def get(self, key: int) -> int:\n",
    "        if key not in self:\n",
    "            return -1\n",
    "        self.move_to_end(key)\n",
    "        return self[key]\n",
    "\n",
    "    def put(self, key: int, value: int) -> None:\n",
    "        if key in self:\n",
    "            self.move_to_end(key)\n",
    "        self[key] = value\n",
    "        if len(self) > self.capacity:\n",
    "            self.popitem(last = False)  #FIFO，将最前端的pop出去\n",
    "\n",
    "## 使用双端链表以及哈希表,使用双端链表是因为要对链表头和尾进行操作\n",
    "##哈希表存储格式为 {key:DLinkedNode(包含四个属性，key、value、next和prev)},\n",
    "\n",
    "class DLinkedNode:\n",
    "    def __init__(self,key=0,value=0):\n",
    "        self.key = key\n",
    "        self.value = value\n",
    "        self.prev = None\n",
    "        self.next = None\n",
    "\n",
    "class LRUCache():  \n",
    "    \n",
    "    def __init__(self,capacity):\n",
    "        self.cache = dict()\n",
    "        self.head = DLinkedNode()\n",
    "        self.tail = DLinkedNode()\n",
    "        self.head.next = self.tail\n",
    "        self.tail.prev = self.head\n",
    "        self.capacity = capacity\n",
    "        self.size = 0\n",
    "        \n",
    "    def get(self, key: int) -> int:\n",
    "        if key not in self.cache:\n",
    "            return -1\n",
    "        node = self.cache[key]\n",
    "        self.moveToHead(node)\n",
    "        return node.value\n",
    "    \n",
    "    def put(self,key,value):\n",
    "        if key not in self.cache:\n",
    "            node = DLinkedNode(key,value)\n",
    "            self.cache[key] = node\n",
    "            self.addToHead(node)\n",
    "            self.size += 1\n",
    "            if self.size > self.capacity:\n",
    "                removed = self.removeTail()\n",
    "                self.cache.pop(removed.key)\n",
    "                self.size -= 1\n",
    "        else:\n",
    "            node = self.cache[key]\n",
    "            node.value = value\n",
    "            self.moveToHead(node)\n",
    "    \n",
    "    def addToHead(self,node):\n",
    "        node.prev = self.head\n",
    "        node.next = self.head.next\n",
    "        self.head.next.prev = node\n",
    "        self.head.next = node\n",
    "    \n",
    "    def removeNode(self,node):\n",
    "        node.prev.next = node.next\n",
    "        node.next.prev = node.prev\n",
    "    \n",
    "    def moveToHead(self,node):\n",
    "        self.removeNode(node)\n",
    "        self.addToHead(node)\n",
    "    \n",
    "    def removeTail(self):\n",
    "        node = self.tail.prev\n",
    "        self.removeNode(node)\n",
    "        return node\n"
   ]
  },
  {
   "cell_type": "markdown",
   "metadata": {},
   "source": [
    "OrderedDict是一个可以改变元素顺序的字典，这个类只有两个操作popitem(last=True)和move_to_end(key, last=True)。对于popitem——默认last为True是后进先出LIFO,反之先进先出FIFO..而对于move_to_end——默认last为True是将元素移动到最右边，反之是最左即链表的开始。"
   ]
  },
  {
   "cell_type": "markdown",
   "metadata": {},
   "source": [
    "### 数组的相对排序"
   ]
  },
  {
   "cell_type": "code",
   "execution_count": null,
   "metadata": {},
   "outputs": [],
   "source": [
    "##转自https://leetcode.com/problems/relative-sort-array/discuss/334585/Python-Straight-Forward-1-line-and-2-lines\n",
    "class Solution:\n",
    "    def relativeSortArray(self, arr1: List[int], arr2: List[int]) -> List[int]:\n",
    "        k = {b: i for i, b in enumerate(arr2)}\n",
    "        return sorted(arr1, key=lambda a: k.get(a, 1000 + a))\n",
    "#适用的数据结构是哈希表和数组,此处考虑元素自身的顺序以及元素在arr2中的顺序，因此以哈希表记录arr2的顺序\n",
    "#由于元素不超过1000，不在arr2中的加上1000按照本身的大小考虑"
   ]
  },
  {
   "cell_type": "markdown",
   "metadata": {},
   "source": [
    "### 翻转对\n",
    "\n",
    "最暴力方法，两个指针，一个个比较，时间复杂度是N方\n",
    "暴力方法如何优化：\n",
    "\n",
    "方法：解题关键"
   ]
  },
  {
   "cell_type": "code",
   "execution_count": null,
   "metadata": {},
   "outputs": [],
   "source": [
    "## 归并，转自https://leetcode.com/problems/reverse-pairs/discuss/97323/Well-explained-O(nlogn)-Python-Solution-based-on-mergesort\n",
    "\n",
    "class Solution:\n",
    "    def __init__(self):\n",
    "        self.cnt = 0\n",
    "    def reversePairs(self, nums):\n",
    "        def msort(lst):\n",
    "            # merge sort body\n",
    "            L = len(lst)\n",
    "            if L <= 1:                          # base case\n",
    "                return lst\n",
    "            else:                               # recursive case\n",
    "                return merger(msort(lst[:int(L/2)]), msort(lst[int(L/2):]))\n",
    "        def merger(left, right):\n",
    "            # merger\n",
    "            l, r = 0, 0                         # increase l and r iteratively\n",
    "            while l < len(left) and r < len(right):\n",
    "                if left[l] <= 2*right[r]:\n",
    "                    l += 1\n",
    "                else:\n",
    "                    self.cnt += len(left)-l     # add here\n",
    "                    r += 1\n",
    "            return sorted(left+right)           # I can't avoid TLE without timsort...\n",
    "\n",
    "        msort(nums)\n",
    "        return self.cnt"
   ]
  },
  {
   "cell_type": "code",
   "execution_count": null,
   "metadata": {},
   "outputs": [],
   "source": [
    "#BIT,转自https://leetcode.com/problems/reverse-pairs/discuss/162757/Python-BIT-using-ranks-Clear-O(nlog(n))\n",
    "\n",
    "class BIT:\n",
    "    def __init__(self, n):\n",
    "        self.n = n + 1\n",
    "        self.sums = [0] * self.n\n",
    "    \n",
    "    def update(self, i, delta):\n",
    "        #添加一个数\n",
    "        while i < self.n:\n",
    "            self.sums[i] += delta\n",
    "            i += i & (-i)\n",
    "    \n",
    "    def query(self, i):\n",
    "        #查询当前小于等于某个数的数量\n",
    "        res = 0\n",
    "        while i > 0:\n",
    "            res += self.sums[i]\n",
    "            i -= i & (-i)\n",
    "        return res\n",
    "class Solution:\n",
    "    def reversePairs(self, nums: List[int]) -> int:\n",
    "        new_nums = nums + [x * 2 for x in nums]\n",
    "        sorted_set = sorted(list(set(new_nums)))\n",
    "        tree = BIT(len(sorted_set))\n",
    "        res = 0\n",
    "        ranks = {}\n",
    "        for i, n in enumerate(sorted_set):\n",
    "            ranks[n] = i + 1\n",
    "            \n",
    "        for n in nums[::-1]:\n",
    "            res += tree.query(ranks[n] - 1)\n",
    "            tree.update(ranks[n * 2], 1)\n",
    "        \n",
    "        return res"
   ]
  },
  {
   "cell_type": "code",
   "execution_count": 1,
   "metadata": {},
   "outputs": [
    {
     "data": {
      "text/plain": [
       "[3, 5, 9, 10, 6, 10, 18, 20]"
      ]
     },
     "execution_count": 1,
     "metadata": {},
     "output_type": "execute_result"
    }
   ],
   "source": [
    "nums = [3,5,9,10]\n",
    "new_nums = nums + [x * 2 for x in nums]\n",
    "new_nums"
   ]
  },
  {
   "cell_type": "markdown",
   "metadata": {},
   "source": [
    "### 合并区间\n",
    "\n",
    "开始想着暴力法可以，但想到的是最最暴力的暴力，一个个对比，因为昨天做的题目是用到合并，就在想能不能用合并，不过想不出来，最后直接看的官方题解，很直接的方法，像是对暴力法进行了优化"
   ]
  },
  {
   "cell_type": "code",
   "execution_count": null,
   "metadata": {},
   "outputs": [],
   "source": [
    "class Solution:\n",
    "    def merge(self, intervals: List[List[int]]) -> List[List[int]]:\n",
    "        intervals.sort(key = lambda x:x[0])\n",
    "\n",
    "        merged = []\n",
    "        for interval in intervals:\n",
    "            if not merged or merged[-1][1] < interval[0]:\n",
    "                merged.append(interval)\n",
    "            else:\n",
    "                merged[-1][1] = max(merged[-1][1],interval[1])\n",
    "        return merged"
   ]
  },
  {
   "cell_type": "markdown",
   "metadata": {},
   "source": [
    "### 颠倒二进制位 \n",
    "位运算这节课是第一次接触，隔了两天没写，忘得一塌糊涂，全部都参考题解"
   ]
  },
  {
   "cell_type": "code",
   "execution_count": null,
   "metadata": {},
   "outputs": [],
   "source": [
    "## 转自https://leetcode-cn.com/problems/reverse-bits/solution/dian-dao-er-jin-zhi-wei-by-leetcode/\n",
    "\n",
    "#逐位颠倒，一个个挪\n",
    "class Solution:\n",
    "    def reverseBits(self, n: int) -> int:\n",
    "        res,power = 0,31\n",
    "        while n:\n",
    "            res += (n&1) << power\n",
    "            n = n >> 1\n",
    "            power -= 1\n",
    "        return res"
   ]
  },
  {
   "cell_type": "code",
   "execution_count": 11,
   "metadata": {},
   "outputs": [],
   "source": [
    "n = 32\n",
    "n = bin(n)\n",
    "a = bin(1)"
   ]
  },
  {
   "cell_type": "code",
   "execution_count": 14,
   "metadata": {},
   "outputs": [
    {
     "data": {
      "text/plain": [
       "1"
      ]
     },
     "execution_count": 14,
     "metadata": {},
     "output_type": "execute_result"
    }
   ],
   "source": [
    "33 & 1"
   ]
  },
  {
   "cell_type": "code",
   "execution_count": 3,
   "metadata": {},
   "outputs": [
    {
     "data": {
      "text/plain": [
       "'0b100000'"
      ]
     },
     "execution_count": 3,
     "metadata": {},
     "output_type": "execute_result"
    }
   ],
   "source": []
  },
  {
   "cell_type": "code",
   "execution_count": null,
   "metadata": {},
   "outputs": [],
   "source": []
  }
 ],
 "metadata": {
  "kernelspec": {
   "display_name": "Python 3",
   "language": "python",
   "name": "python3"
  },
  "language_info": {
   "codemirror_mode": {
    "name": "ipython",
    "version": 3
   },
   "file_extension": ".py",
   "mimetype": "text/x-python",
   "name": "python",
   "nbconvert_exporter": "python",
   "pygments_lexer": "ipython3",
   "version": "3.6.10"
  }
 },
 "nbformat": 4,
 "nbformat_minor": 4
}
