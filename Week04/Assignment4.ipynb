{
 "cells": [
  {
   "cell_type": "code",
   "execution_count": null,
   "metadata": {},
   "outputs": [],
   "source": [
    "### 搜索旋转排序数组\n",
    "\n",
    "暴力法，O(N),O(1)\n",
    "有序后二分查找，O(N),O(1)"
   ]
  },
  {
   "cell_type": "markdown",
   "metadata": {},
   "source": [
    "数组被一分为二，成为两个有序的子部分\n",
    "target可能在左区间，也可能在右区间，而mid可能指向左区间的值，也可能指向右边区间的值，因此共有四种情况"
   ]
  },
  {
   "cell_type": "code",
   "execution_count": null,
   "metadata": {},
   "outputs": [],
   "source": [
    "class Solution:\n",
    "    def search(self, nums: List[int], target: int) -> int:\n",
    "        if not nums:\n",
    "            return -1\n",
    "        low,high = 0,len(nums)-1\n",
    "        while low <= high:\n",
    "            mid = (low+high)//2\n",
    "            if nums[mid] == target:\n",
    "                return mid\n",
    "            if nums[0] <= nums[mid]:\n",
    "                #判断nums[mid]是否属于左部分\n",
    "                #mid如果属于左部分，不仅是nums[0]，也可以等于nums[0]\n",
    "                if nums[0] <= target < nums[mid]:\n",
    "                    high = mid -1\n",
    "                #target比mid来的大时，说明其在mid的右半段\n",
    "                else:\n",
    "                    low = mid + 1\n",
    "            else:\n",
    "                if nums[mid] < target <= nums[-1]:\n",
    "                    low = mid + 1\n",
    "                else:\n",
    "                    high = mid -  1\n",
    "        return -1"
   ]
  },
  {
   "cell_type": "markdown",
   "metadata": {},
   "source": [
    "## 柠檬水找零\n",
    "属于贪心算法，做局部最优判断\n",
    "1、clarification 长度可能为0，用户的钱只有5,10,20这三种可能，找零20的时候优先一张五元一张十元，其次没十元，再找三张五元。\n",
    "\n",
    "2、可能的解法\n",
    "最小子问题，收到的钱是5必然没问题，收到10至少得有1张5，收到20，至少得有1张10和1张5，或者三张五元，因此如果是5，则在已持有的零钱own加一张5元，如果是10，则五元少一张，10元多一张，如果是20，则少一张五元和十元,或三张五元。\n",
    "遍历每次交易，时间复杂度为O(n).需要数组或字典存放10元和5元的数组，空间复杂度为O(1)\n",
    "\n",
    "3、特殊测试用例，空列表"
   ]
  },
  {
   "cell_type": "code",
   "execution_count": 2,
   "metadata": {},
   "outputs": [
    {
     "data": {
      "text/plain": [
       "[1, 0]"
      ]
     },
     "execution_count": 2,
     "metadata": {},
     "output_type": "execute_result"
    }
   ],
   "source": [
    "class Solution:\n",
    "    def lemonadeChange(self, bills: List[int]) -> bool:\n",
    "        if not List:\n",
    "            return True\n",
    "        if bills[0] != 5:\n",
    "            return False\n",
    "        own = [1,0]\n",
    "        for i in range(1,len(bills)):\n",
    "            if bills[i] == 5:\n",
    "                own[0] += 1\n",
    "            elif bills[i] == 10:\n",
    "                if own[0] < 1:\n",
    "                    return False\n",
    "                else:\n",
    "                    own[1] += 1\n",
    "                    own[0] -= 1\n",
    "            else:\n",
    "                if own[0] >= 1 and own[1] >= 1 :\n",
    "                    own[0] -= 1\n",
    "                    own[1] -= 1\n",
    "                elif own[0] >= 3 and own[1] < 1:\n",
    "                    own[0] -= 3\n",
    "                else:\n",
    "                    return False \n",
    "        return True\n",
    "            \n",
    "\n",
    "#参考leetcode进行改进，直接在列表中取数而不是加索引，根据五元钱的数量判断\n",
    "class Solution:\n",
    "    def lemonadeChange(self, bills: List[int]) -> bool:\n",
    "        if not List:\n",
    "            return True\n",
    "        five,ten = 0,0\n",
    "        for num in bills:\n",
    "            if num == 5:five += 1\n",
    "            elif num == 10:\n",
    "                five -= 1\n",
    "                ten += 1\n",
    "            else:\n",
    "                if ten < 1 : five -= 3\n",
    "                else : \n",
    "                    five -= 1\n",
    "                    ten -= 1\n",
    "            if five < 0:return False\n",
    "        return True"
   ]
  },
  {
   "cell_type": "markdown",
   "metadata": {},
   "source": [
    "## 机器人 \n",
    "\n",
    "毫无思路，直接题解\n",
    "\n",
    "转自https://leetcode.com/problems/walking-robot-simulation/discuss/152364/Python-short-and-straightforward-solution-w-explanation-and-statement-is-wrong-in-the-question-!!!"
   ]
  },
  {
   "cell_type": "code",
   "execution_count": null,
   "metadata": {},
   "outputs": [],
   "source": [
    "class Solution:\n",
    "    def robotSim(self, commands: List[int], obstacles: List[List[int]]) -> int:\n",
    "        i = j = mx = d = 0\n",
    "        #i，j是横纵坐标，mx记录最大距离，d表示方向\n",
    "        #方向按照逆时针的方向排列\n",
    "        move,obstacles = [[0,1],[-1,0],[0,-1],[1,0]],set(map(tuple,obstacles))\n",
    "        for command in commands:\n",
    "            #向左转就是逆时针转，因为是按逆时针排列方向，因此向左转是加一\n",
    "            if command == -2: d = (d + 1) % 4\n",
    "            elif command == -1: d = (d - 1)%4\n",
    "            else:\n",
    "                x,y = move[d]\n",
    "                while command and (i+x,j+y) not in obstacles:\n",
    "                    #比如command等于5，那么在当前方向前进5次，那么这个循环重复五次\n",
    "                    i += x\n",
    "                    j += y\n",
    "                    command -= 1\n",
    "                mx = max(mx,i**2+j**2)\n",
    "        return mx"
   ]
  },
  {
   "cell_type": "markdown",
   "metadata": {},
   "source": [
    "## 单词接龙 （2h）\n",
    "毫无思路直接题解\n",
    " \n",
    "最小子问题，对于每个词，找到其可能到达的所有词\n",
    "1、clarification，长度相等，beginword和endword都在列表中\n",
    "2、两种方法，广度优先和双向广度优先\n",
    "3、最优方法，双向广度\n",
    "4、测试样例：\n",
    "\n"
   ]
  },
  {
   "cell_type": "code",
   "execution_count": null,
   "metadata": {},
   "outputs": [],
   "source": [
    "#广度优先遍历\n",
    "class Solution:\n",
    "    def ladderLength(self, beginWord: str, endWord: str, wordList: List[str]) -> int:\n",
    "        #对于每一个单词，其有若干个下一步转换的单词.因此每个单词都会与若干个单词链接\n",
    "        #当链接的单词是endword时则返回,该情况利用到图的数据结构\n",
    "        #对图使用广度优先遍历，借助到栈，其次要记录已访问的节点，则数组visited存储\n",
    "        #建立一个字典存储所有中间字符对应的字符串\n",
    "        L = len(beginWord)\n",
    "        all_conbi_dict = defaultdict(list)\n",
    "        for word in wordList:\n",
    "            for i in range(L):\n",
    "                #同个中间字符可以对应多个字符，因此使用list\n",
    "                all_conbi_dict[word[:i] + '*' + word[i+1:]].append(word)\n",
    "        visited = [beginWord]\n",
    "        queue = [(beginWord,1)]\n",
    "        while queue:\n",
    "            current_word,level = queue.pop(0)\n",
    "            for i in range(L):\n",
    "                intermediate_word = current_word[:i] + '*' + current_word[i+1:]\n",
    "                for word in all_conbi_dict[intermediate_word]:\n",
    "                    if word == endWord:\n",
    "                        return level + 1\n",
    "                    if word not in visited:\n",
    "                        visited.append(word)\n",
    "                        queue.append((word,level+1))\n",
    "                #中间情况只会出现一次，使用完后，将字典里的中间字符清空\n",
    "                all_conbi_dict[intermediate_word] = []\n",
    "        return 0"
   ]
  },
  {
   "cell_type": "code",
   "execution_count": null,
   "metadata": {},
   "outputs": [],
   "source": [
    "##双向广度\n",
    "class Solution:\n",
    "    def __init__(self):\n",
    "        #相对于单向的广度优先，双向由于从begin和end两端分别遍历\n",
    "        #那么queue就有beginqueue和endqueue，而visited也有beginvisited和endvisited\n",
    "        #只是visited中还要记录所在的level\n",
    "        #终止条件是，begin的visit也在endvisited中\n",
    "        self.length = 0\n",
    "        self.all_conbi_dict = defaultdict(list)\n",
    "    \n",
    "    \n",
    "    def visitWordNode(self,queue,visited,others_visited):\n",
    "        #一次遍历的操作与之前相同\n",
    "        current_word,level = queue.pop(0)\n",
    "        for i in range(self.length):\n",
    "            intermediate_word = current_word[:i] + '*' + current_word[i+1:]\n",
    "            for word in self.all_conbi_dict[intermediate_word]:\n",
    "                if word in others_visited:\n",
    "                    return level + others_visited[word]\n",
    "                if word not in visited:\n",
    "                    visited[word] = level + 1\n",
    "                    queue.append((word,level + 1))\n",
    "        #是放在最外层，代码的时候经常犯错，把它放在内层循环里\n",
    "        return None\n",
    "    \n",
    "    def ladderLength(self, beginWord: str, endWord: str, wordList: List[str]) -> int:\n",
    "        if endWord not in wordList or not endWord or not beginWord or not wordList:\n",
    "            return 0\n",
    "        self.length = len(beginWord)\n",
    "        for word in wordList:\n",
    "            for i in range(self.length):\n",
    "                self.all_conbi_dict[word[:i] + '*' + word[i+1:]].append(word)\n",
    "        queue_begin = [(beginWord,1)]\n",
    "        queue_end = [(endWord,1)]\n",
    "        visited_begin = {beginWord:1}\n",
    "        visited_end = {endWord:1}\n",
    "        ans = None\n",
    "        while queue_begin and queue_end:\n",
    "            #从beginword开始遍历一次\n",
    "            ans = self.visitWordNode(queue_begin,visited_begin,visited_end)\n",
    "            if ans:\n",
    "                return ans\n",
    "            #从endword开始遍历一次\n",
    "            ans = self.visitWordNode(queue_end,visited_end,visited_begin)\n",
    "            if ans:\n",
    "                return ans\n",
    "        return 0"
   ]
  },
  {
   "cell_type": "code",
   "execution_count": 23,
   "metadata": {},
   "outputs": [],
   "source": [
    "queue = [('hello',1),('noway',2)]\n",
    "queue.pop(0) #弹出第一个\n",
    "queue.pop()  #弹出最后一个"
   ]
  },
  {
   "cell_type": "code",
   "execution_count": 19,
   "metadata": {},
   "outputs": [
    {
     "name": "stdout",
     "output_type": "stream",
     "text": [
      "defaultdict(<class 'list'>, {'hello': ['hi', 'hey']})\n"
     ]
    },
    {
     "data": {
      "text/plain": [
       "[]"
      ]
     },
     "execution_count": 19,
     "metadata": {},
     "output_type": "execute_result"
    }
   ],
   "source": [
    "from collections import defaultdict\n",
    "all_combo_dict = defaultdict(list)\n",
    "all_combo_dict['hello'].append('hi')\n",
    "all_combo_dict['hello'].append('hey')\n",
    "print(all_combo_dict)\n",
    "all_combo_dict['fd']"
   ]
  },
  {
   "cell_type": "markdown",
   "metadata": {},
   "source": [
    "## 岛屿数量\n",
    "\n",
    "起始想法是最小子问题是对于每个1点，只要每个1的四个方向里都为0，就是新岛屿。所以遍历所有点，对于每个为1的点，查看四周是否均为0，是则岛屿数量加1。但是一整个岛屿里的所有1点都不存在四个方向都是0.\n",
    "\n",
    "题解遍历，对于每个为1的点，还将四个方向的点都设置为0。相当于在找到一个岛的时候，把周围相邻的岛设置为0，因为它们所在的岛已经计算过。\n",
    "时间复杂度为O（M*N），空间复杂度为……\n",
    "特殊例子是岛不存在"
   ]
  },
  {
   "cell_type": "code",
   "execution_count": null,
   "metadata": {},
   "outputs": [],
   "source": [
    "class Solution:\n",
    "    def dfs(self,grid,r,c,nr,nc):\n",
    "        grid[r][c] = '0'\n",
    "        for x,y in [(r+1,c),(r-1,c),(r,c+1),(r,c-1)]:\n",
    "            #grid[x][y]要放在x和y取值范围的判断后面\n",
    "            #否则会out of index\n",
    "            if  0<=x<nr and 0<=y<nc and grid[x][y] == '1' :\n",
    "                grid[x][y] = '0'\n",
    "                self.dfs(grid,x,y,nr,nc)\n",
    "\n",
    "    def numIslands(self, grid: List[List[str]]) -> int:\n",
    "        if not grid:\n",
    "            return 0\n",
    "        number_islands = 0\n",
    "        nr,nc = len(grid),len(grid[0])\n",
    "        for r in range(nr):\n",
    "            for c in range(nc):\n",
    "                if grid[r][c] == '1':\n",
    "                    number_islands += 1\n",
    "                    self.dfs(grid,r,c,nr,nc)\n",
    "        return number_islands"
   ]
  },
  {
   "cell_type": "markdown",
   "metadata": {},
   "source": [
    "## 挖地雷（80min）\n",
    "1、clarification，click的点一定在board中，宽和高有规定，因此不可能在空地扫雷\n",
    "\n",
    "2、对于每个操作，若是M,将其修改为‘X’然后返回，游戏结束。\n",
    "若是E则遍历其周围的点——1、若周围有地雷则停止遍历，返回其周围地雷数 2、若没有则继续向下遍历，返回B\n",
    "因此采用深度优先遍历。\n",
    "\n",
    "3、访问每个点，时间复杂度为O（nr*nc），空间复杂度为O（1）\n",
    "\n",
    "4、测试样例想不到特殊的"
   ]
  },
  {
   "cell_type": "code",
   "execution_count": null,
   "metadata": {},
   "outputs": [],
   "source": [
    "#原先自己是在self.helper里返回board最后返回的是空的列表，[]\n",
    "#后来看了题解，改成在updataboard中返回，只在helper里进行修改\n",
    "#另外,执行代码时一直报错expected object or value，后来才发现是自己修改了测试样例，并且修改的格式错误\n",
    "class Solution:\n",
    "    def updateBoard(self, board: List[List[str]], click: List[int]) -> List[List[str]]:\n",
    "        nr,nc = len(board),len(board[0])\n",
    "        r,c = click[0],click[1]\n",
    "        self.helper(board,r,c,0,nr,nc)\n",
    "        return board\n",
    "\n",
    "\n",
    "    def helper(self,board,r,c,level,nr,nc):\n",
    "        if board[r][c] == 'M' and level == 0:\n",
    "            board[r][c] = 'X'\n",
    "            return \n",
    "        if board[r][c] == 'M' and level > 0:\n",
    "            return \n",
    "        count = 0\n",
    "        if board[r][c] == 'E':\n",
    "            for (x,y) in [(r,c-1),(r,c+1),(r-1,c-1),(r-1,c+1),(r-1,c),(r+1,c),(r+1,c-1),(r+1,c+1)]:\n",
    "                if 0<=x<nr and 0<=y<nc and board[x][y] == 'M':\n",
    "                    count += 1\n",
    "            if count == 0:\n",
    "                board[r][c] = 'B'\n",
    "                level += 1\n",
    "                for (x,y) in [(r,c-1),(r,c+1),(r-1,c-1),(r-1,c+1),(r-1,c),(r+1,c),(r+1,c-1),(r+1,c+1)]:\n",
    "                    if 0<=x<nr and 0<=y<nc:\n",
    "                        self.helper(board,x,y,level,nr,nc)\n",
    "            else:\n",
    "                board[r][c] = str(count) ##count转换为str形式没想到，看了题解才修改\n",
    "                return "
   ]
  },
  {
   "cell_type": "markdown",
   "metadata": {},
   "source": [
    "## 搜索二维矩阵（30min）\n",
    "1、Clarification，是否可能为空，矩阵中是否可能出现非数字特殊字符\n",
    "\n",
    "2、第一种，将矩阵转换为数组，由于有序，可以进行二分查找，第二种先锁定行，然后在行内进行二分查找。\n",
    "\n",
    "3、第一种时间复杂度O(log(M*N)),空间复杂度O（M*N）\n",
    "   第二种时间复杂度O(N+logM)，空间复杂度O(1)\n",
    "   \n",
    "4、特殊测试例子，[],[[]],target不存在，其他就想不到了"
   ]
  },
  {
   "cell_type": "code",
   "execution_count": null,
   "metadata": {},
   "outputs": [],
   "source": [
    "#c第二种方法，找到行后对当前行进行二分查找\n",
    "class Solution:\n",
    "    def searchMatrix(self, matrix: List[List[int]], target: int) -> bool:\n",
    "        if not matrix or not matrix[0]:\n",
    "            return False\n",
    "        nr,nc = len(matrix),len(matrix[0])\n",
    "        for i in range(nr):\n",
    "            if matrix[i][0] <= target <= matrix[i][nc-1]:\n",
    "                return self.helper(matrix[i],nc,target)\n",
    "        return False\n",
    "    \n",
    "    def helper(self,array,nc,target):\n",
    "        low,high = 0,nc-1\n",
    "        \n",
    "        while low <= high:\n",
    "            mid = (low+high)//2\n",
    "            if array[mid] == target:\n",
    "                return True\n",
    "            elif array[mid] > target:\n",
    "                high = mid - 1\n",
    "            else:\n",
    "                low = mid + 1\n",
    "        return False\n",
    "        "
   ]
  },
  {
   "cell_type": "code",
   "execution_count": null,
   "metadata": {},
   "outputs": [],
   "source": [
    "## 单词接龙2\n",
    "class Solution:\n",
    "    def findLadders(self, beginWord: str, endWord: str, wordList: List[str]) -> List[List[str]]:\n",
    "        res = []\n",
    "        layer = {}\n",
    "\n",
    "        #初始layer是第一层，只含有一个baginword\n",
    "        layer[beginWord] = [[beginWord]]\n",
    "\n",
    "        while layer:\n",
    "            newlayer = defaultdict(list)\n",
    "            for w in layer:\n",
    "                if w == endWord:\n",
    "                    res.extend(k for k in layer[w])\n",
    "                else:\n",
    "                    for i in range(len(w)):\n",
    "                        for j in 'abcdefghijklmnopqrstuvwxyz':\n",
    "                            neww = w[:i] + j + w[i+1:]\n",
    "                            if neww in wordList:\n",
    "                                newlayer[neww] += [j + [neww] \n",
    "                                for j in layer[w]]\n",
    "            wordList -= newlayer.keys()\n",
    "            #newlayer是在layer基础上遍历一次的层\n",
    "            #键是当前路径的终点，值是到达终点的索引路径\n",
    "            #每一次循环都对当前终点再向下一层\n",
    "            layer = newlayer\n",
    "        return res"
   ]
  },
  {
   "cell_type": "markdown",
   "metadata": {},
   "source": [
    "## 寻找旋转排序数组中的最小值\n",
    "\n",
    "1、clarification：数组是否可能为空，其元素是否均为自然数\n",
    "\n",
    "2、暴力法：以变量min存储最小数字，遍历每个数字进行比较\n",
    "\n",
    "二分查找：已是排序数组，则旋转后的最小值就是两个区间的分割点，比左右两边数字都要小.初始low，high = 0，len(nums)-1,求解mid，若mid指向的数大于nums[0]，那么mid在左区间，反之，则在右区间。令low和high不断向中间收敛\n"
   ]
  },
  {
   "cell_type": "code",
   "execution_count": null,
   "metadata": {},
   "outputs": [],
   "source": [
    "class Solution:\n",
    "    def findMin(self, nums: List[int]) -> int:\n",
    "        low,high = 0,len(nums)-1\n",
    "        #当数组只有一个元素或者旋转后仍然未原数组\n",
    "        if nums[low] <= nums[high]:\n",
    "            return nums[0]\n",
    "        while low <= high:\n",
    "            mid = (low+high)//2\n",
    "            #只有最小的数才会比自己左边的数小\n",
    "            if nums[mid] < nums[mid-1]:\n",
    "                return nums[mid]\n",
    "            #加入两个条件进行判断的原因在于，因为整除（//）的性质，永远会取左边一点的数\n",
    "            #如果数组是[2,1]那么mid永远会指向2，而num[mid] < num[mid-1]永远不会成立\n",
    "            if nums[mid + 1] < nums[mid]:\n",
    "                return nums[mid + 1]\n",
    "            if nums[0] < nums[mid]:\n",
    "                #当中间数位于左边的区间时，为了让它到达右区间\n",
    "                low = mid + 1\n",
    "            else:\n",
    "                #当中间数位于右边的区间，将它往左边调整\n",
    "                high = mid - 1"
   ]
  },
  {
   "cell_type": "markdown",
   "metadata": {},
   "source": [
    "## 跳跃游戏\n",
    "\n",
    "1、clarification 非负整数，肯定存在解决方案\n",
    "2、记录每个"
   ]
  }
 ],
 "metadata": {
  "kernelspec": {
   "display_name": "Python 3",
   "language": "python",
   "name": "python3"
  },
  "language_info": {
   "codemirror_mode": {
    "name": "ipython",
    "version": 3
   },
   "file_extension": ".py",
   "mimetype": "text/x-python",
   "name": "python",
   "nbconvert_exporter": "python",
   "pygments_lexer": "ipython3",
   "version": "3.6.10"
  }
 },
 "nbformat": 4,
 "nbformat_minor": 4
}
