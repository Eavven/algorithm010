{
 "cells": [
  {
   "cell_type": "code",
   "execution_count": null,
   "metadata": {},
   "outputs": [],
   "source": [
    "贪心：当下做局部最优判断，对于工程和生活中的问题，贪心法一般不能得到我们所要求的答案\n",
    "回溯：能够回退\n",
    "动态规划;最优判断+回退\n",
    "\n",
    "二分查找的前提：目标函数单调性，存在上下界，能够通过索引访问。\n",
    "写二分查找的题目时，一开始就把代码模板打好，之后把数字放进去，进行微调\n",
    "\n",
    "讨论—所有方法list出来，复杂度分析—选择最优—准备测试样例，错误的变态的极端的"
   ]
  },
  {
   "cell_type": "code",
   "execution_count": null,
   "metadata": {},
   "outputs": [],
   "source": [
    "##二分查找代码模板\n",
    "\n",
    "low,high = 0,len(nums)\n",
    "while low <= high:\n",
    "    #有=号，low=high时，mid=low=high\n",
    "    mid = (low + high)/2\n",
    "    if nums[mid] == target:\n",
    "        # find the target\n",
    "        return mid\n",
    "    elif nums[mid] < target:\n",
    "        low = mid + 1\n",
    "    else:\n",
    "        high = mid - 1"
   ]
  },
  {
   "cell_type": "code",
   "execution_count": null,
   "metadata": {},
   "outputs": [],
   "source": [
    "##找到有序数组中间无序的地方\n",
    "\n",
    "#该点小于左边，小于右边\n",
    "\n",
    "low,high = 0,len(nums)\n",
    "while low < high；\n",
    "    mid = (low+high)/2\n",
    "    if nums[mid] > nums[high]:\n",
    "        #无序的值处在(mid,high]\n",
    "        low = mid + 1\n",
    "        #在[mid+1,high]中查找该无序值\n",
    "    else: high = mid\n",
    "        #否则无序的值处在[low,mid]中\n",
    "        #在[low,mid]中查找\n",
    "        #不断迭代，直到low和high重合"
   ]
  },
  {
   "cell_type": "code",
   "execution_count": null,
   "metadata": {},
   "outputs": [],
   "source": []
  }
 ],
 "metadata": {
  "kernelspec": {
   "display_name": "Python 3",
   "language": "python",
   "name": "python3"
  },
  "language_info": {
   "codemirror_mode": {
    "name": "ipython",
    "version": 3
   },
   "file_extension": ".py",
   "mimetype": "text/x-python",
   "name": "python",
   "nbconvert_exporter": "python",
   "pygments_lexer": "ipython3",
   "version": "3.6.10"
  }
 },
 "nbformat": 4,
 "nbformat_minor": 4
}
