{
 "cells": [
  {
   "cell_type": "markdown",
   "metadata": {},
   "source": [
    "###  使用最小花费爬楼梯\n",
    "\n",
    "每个楼梯都由前一个楼梯或前两个楼梯到达，因此可以转换为子问题\n",
    "\n",
    "dp状态为从当前楼梯出发所需的cost\n",
    "状态转移方程：dp[i] += min(dp[i-1],dp[i-2])"
   ]
  },
  {
   "cell_type": "code",
   "execution_count": null,
   "metadata": {},
   "outputs": [],
   "source": [
    "class Solution:\n",
    "    def minCostClimbingStairs(self, cost: List[int]) -> int:\n",
    "        n = len(cost)\n",
    "        if n == 1:\n",
    "            return 0\n",
    "        if n == 2:\n",
    "            return min(cost[1],cost[2])\n",
    "        for i in range(2,n):\n",
    "            cost[i] += min(cost[i-1],cost[i-2])\n",
    "        return min(cost[-1],cost[-2])"
   ]
  },
  {
   "cell_type": "markdown",
   "metadata": {},
   "source": [
    "### 编辑距离"
   ]
  },
  {
   "cell_type": "code",
   "execution_count": null,
   "metadata": {},
   "outputs": [],
   "source": [
    "##转自https://leetcode.com/problems/edit-distance/discuss/159295/Python-solutions-and-intuition\n",
    "\n",
    "class Solution:\n",
    "    def minDistance(self, word1, word2):\n",
    "        \"\"\"Dynamic programming solution\"\"\"\n",
    "        m = len(word1)\n",
    "        n = len(word2)\n",
    "        table = [[0] * (n + 1) for _ in range(m + 1)]\n",
    "\n",
    "        for i in range(m + 1):\n",
    "            table[i][0] = i\n",
    "        for j in range(n + 1):\n",
    "            table[0][j] = j\n",
    "\n",
    "        for i in range(1, m + 1):\n",
    "            for j in range(1, n + 1):\n",
    "                if word1[i - 1] == word2[j - 1]:\n",
    "                    table[i][j] = table[i - 1][j - 1]\n",
    "                else:\n",
    "                    table[i][j] = 1 + min(table[i - 1][j], table[i][j - 1], table[i - 1][j - 1])\n",
    "        return table[-1][-1]"
   ]
  },
  {
   "cell_type": "markdown",
   "metadata": {},
   "source": [
    "### 最长上升子序列\n",
    "\n",
    "最暴力方法，每个数只有取和不取两种情况，时间复杂度是2的n次方\n",
    "最小子问题，比如数组长度为i，考虑到第i个数的最长上升子序列，不仅与第i-1个数有关，跟前面的数都有关，这样的话，每次考虑第i个数，都要循环比较之前的数。\n",
    "如何将数学归纳法的思想用到这道题\n",
    "\n",
    "maxdp(i,xi yi)"
   ]
  },
  {
   "cell_type": "code",
   "execution_count": null,
   "metadata": {},
   "outputs": [],
   "source": [
    "#转自https://leetcode-cn.com/problems/longest-increasing-subsequence/solution/zui-chang-shang-sheng-zi-xu-lie-by-leetcode-soluti/\n",
    "class Solution:\n",
    "    def lengthOfLIS(self, nums: List[int]) -> int:\n",
    "        if not nums:\n",
    "            return 0\n",
    "        dp = []\n",
    "        for i in range(len(nums)):\n",
    "            dp.append(1)\n",
    "            for j in range(i):\n",
    "                if nums[i] > nums[j]:\n",
    "                    dp[i] = max(dp[i], dp[j] + 1)\n",
    "        return max(dp)\n",
    "\n",
    "class Solution:\n",
    "    def lengthOfLIS(self, nums: List[int]) -> int:\n",
    "        d = []\n",
    "        for n in nums:\n",
    "            if not d or n > d[-1]:\n",
    "                d.append(n)\n",
    "            else:\n",
    "                l, r = 0, len(d) - 1\n",
    "                loc = r\n",
    "                while l <= r:\n",
    "                    mid = (l + r) // 2\n",
    "                    if d[mid] >= n:\n",
    "                        loc = mid\n",
    "                        r = mid - 1\n",
    "                    else:\n",
    "                        l = mid + 1\n",
    "                d[loc] = n\n",
    "        return len(d)\n"
   ]
  },
  {
   "cell_type": "markdown",
   "metadata": {},
   "source": [
    "### 最长有效括号\n",
    "\n",
    "暴力方法：判别括号有效函数，然后遍历N次\n",
    "子问题：考虑第n位是否有效，dp状态方程设置为第i位字符的左右括号数，遇到左括号+1，遇到右括号-1\n",
    "\n",
    "\n",
    "dp状态的表示，可直接考虑答案所求解的方向"
   ]
  },
  {
   "cell_type": "code",
   "execution_count": null,
   "metadata": {},
   "outputs": [],
   "source": [
    "##转自https://leetcode.com/problems/longest-valid-parentheses/discuss/14312/My-ten-lines-python-solution\n",
    "class Solution:\n",
    "    def longestValidParentheses(self, s: str) -> int:\n",
    "        dp, stack = [0]*(len(s) + 1), []\n",
    "        for i in range(len(s)):\n",
    "            if s[i] == '(':\n",
    "                stack.append(i)\n",
    "            else:\n",
    "                if stack:\n",
    "                    p = stack.pop()\n",
    "                    dp[i + 1] = dp[p] + i - p + 1\n",
    "        return max(dp)\n",
    "    \n",
    "#动态规划，转自https://leetcode-cn.com/problems/longest-valid-parentheses/solution/zui-chang-you-xiao-gua-hao-by-leetcode-solution/\n",
    "#先认为dp方程表示截止第n个位置，有效字符串长度，那么第n个位置必然是‘）’。\n",
    "#用数学归纳法思想进行总结，先考虑第一二个位置，再认为前n-1个位置已按该方法计算后，考虑第n个位置\n",
    "class Solution:\n",
    "    def longestValidParentheses(self, s: str) -> int:\n",
    "        n = len(s)\n",
    "        if n == 0:return 0\n",
    "        dp = [0] * n \n",
    "        for i in range(n):\n",
    "            if s[i] == ')' and i - dp[i-1] - 1 >=0 and s[i-dp[i-1]-1] == '(':\n",
    "                #如果i-dp[i-1]-2 = -1 ，那么就是dp[-1],它就是0 \n",
    "                dp[i] = dp[i-1] + dp[i-dp[i-1]-2] + 2\n",
    "        return max(dp)\n",
    "    \n",
    "    "
   ]
  },
  {
   "cell_type": "code",
   "execution_count": null,
   "metadata": {},
   "outputs": [],
   "source": [
    "## 最大矩形\n"
   ]
  },
  {
   "cell_type": "code",
   "execution_count": 5,
   "metadata": {},
   "outputs": [],
   "source": [
    "#转自https://leetcode-cn.com/problems/maximal-rectangle/submissions/\n",
    "class Solution:\n",
    "    def maximalRectangle(self, matrix: List[List[str]]) -> int:\n",
    "        if not matrix: return 0\n",
    "\n",
    "        m = len(matrix)\n",
    "        n = len(matrix[0])\n",
    "\n",
    "        left = [0] * n # initialize left as the leftmost boundary possible\n",
    "        right = [n] * n # initialize right as the rightmost boundary possible\n",
    "        height = [0] * n\n",
    "\n",
    "        maxarea = 0\n",
    "\n",
    "        for i in range(m):\n",
    "\n",
    "            cur_left, cur_right = 0, n\n",
    "            # update height\n",
    "            for j in range(n):\n",
    "                if matrix[i][j] == '1': height[j] += 1\n",
    "                else: height[j] = 0\n",
    "            # update left\n",
    "            for j in range(n):\n",
    "                if matrix[i][j] == '1': left[j] = max(left[j], cur_left)\n",
    "                else:\n",
    "                    left[j] = 0\n",
    "                    cur_left = j + 1\n",
    "            # update right\n",
    "            for j in range(n-1, -1, -1):\n",
    "                if matrix[i][j] == '1': right[j] = min(right[j], cur_right)\n",
    "                else:\n",
    "                    right[j] = n\n",
    "                    cur_right = j\n",
    "            # update the area\n",
    "            for j in range(n):\n",
    "                maxarea = max(maxarea, height[j] * (right[j] - left[j]))\n",
    "\n",
    "        return maxarea"
   ]
  },
  {
   "cell_type": "markdown",
   "metadata": {},
   "source": [
    "### 字符串中的第一个唯一字符"
   ]
  },
  {
   "cell_type": "code",
   "execution_count": null,
   "metadata": {},
   "outputs": [],
   "source": [
    "class Solution:\n",
    "    def firstUniqChar(self, s: str) -> int:\n",
    "        d = dict()\n",
    "        for i in s:\n",
    "            d[i] = d.get(i,0) + 1\n",
    "        for i in d:\n",
    "            if d[i] == 1:\n",
    "                return self.helper(i,s)\n",
    "        return -1\n",
    "    \n",
    "    def helper(self,i,s):\n",
    "        for j in range(len(s)):\n",
    "            if s[j] == i:\n",
    "                return j\n",
    "    #helper函数可直接用s.index(i)替换"
   ]
  },
  {
   "cell_type": "markdown",
   "metadata": {},
   "source": [
    "### 字符串转换整数"
   ]
  },
  {
   "cell_type": "code",
   "execution_count": null,
   "metadata": {},
   "outputs": [],
   "source": [
    "#转自https://leetcode-cn.com/problems/string-to-integer-atoi/solution/zi-fu-chuan-zhuan-huan-zheng-shu-atoi-by-leetcode-/\n",
    "INT_MAX = 2 ** 31 - 1\n",
    "INT_MIN = -2 ** 31\n",
    "\n",
    "class Automaton:\n",
    "    def __init__(self):\n",
    "        self.state = 'start'\n",
    "        self.sign = 1\n",
    "        self.ans = 0\n",
    "        self.table = {\n",
    "            'start': ['start', 'signed', 'in_number', 'end'],\n",
    "            'signed': ['end', 'end', 'in_number', 'end'],\n",
    "            'in_number': ['end', 'end', 'in_number', 'end'],\n",
    "            'end': ['end', 'end', 'end', 'end'],\n",
    "        }\n",
    "        \n",
    "    def get_col(self, c):\n",
    "        if c.isspace():\n",
    "            return 0\n",
    "        if c == '+' or c == '-':\n",
    "            return 1\n",
    "        if c.isdigit():\n",
    "            return 2\n",
    "        return 3\n",
    "\n",
    "    def get(self, c):\n",
    "        self.state = self.table[self.state][self.get_col(c)]\n",
    "        if self.state == 'in_number':\n",
    "            self.ans = self.ans * 10 + int(c)\n",
    "            self.ans = min(self.ans, INT_MAX) if self.sign == 1 else min(self.ans, -INT_MIN)\n",
    "        elif self.state == 'signed':\n",
    "            self.sign = 1 if c == '+' else -1\n",
    "\n",
    "class Solution:\n",
    "    def myAtoi(self, str: str) -> int:\n",
    "        automaton = Automaton()\n",
    "        for c in str:\n",
    "            automaton.get(c)\n",
    "        return automaton.sign * automaton.ans"
   ]
  },
  {
   "cell_type": "markdown",
   "metadata": {},
   "source": [
    "### 最长公共子序列\n",
    "\n"
   ]
  },
  {
   "cell_type": "code",
   "execution_count": null,
   "metadata": {},
   "outputs": [],
   "source": [
    "##转自https://leetcode-cn.com/problems/longest-common-subsequence/solution/dong-tai-gui-hua-zhi-zui-chang-gong-gong-zi-xu-lie/\n",
    "class Solution:\n",
    "    def longestCommonSubsequence(self, text1: str, text2: str) -> int:\n",
    "        m,n = len(text1),len(text2)\n",
    "        dp = [[0] * (m+1) for _ in range(n+1)]\n",
    "        for i in range(1,n+1):\n",
    "            for j in range(1,m+1):\n",
    "                if text1[j-1] == text2[i-1]:\n",
    "                    dp[i][j] = dp[i-1][j-1] + 1\n",
    "                else:\n",
    "                    dp[i][j] = max(dp[i-1][j],dp[i][j-1])\n",
    "        return dp[-1][-1]"
   ]
  },
  {
   "cell_type": "code",
   "execution_count": null,
   "metadata": {},
   "outputs": [],
   "source": []
  }
 ],
 "metadata": {
  "kernelspec": {
   "display_name": "Python 3",
   "language": "python",
   "name": "python3"
  },
  "language_info": {
   "codemirror_mode": {
    "name": "ipython",
    "version": 3
   },
   "file_extension": ".py",
   "mimetype": "text/x-python",
   "name": "python",
   "nbconvert_exporter": "python",
   "pygments_lexer": "ipython3",
   "version": "3.6.10"
  }
 },
 "nbformat": 4,
 "nbformat_minor": 4
}
