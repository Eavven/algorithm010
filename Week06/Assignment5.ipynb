{
 "cells": [
  {
   "cell_type": "markdown",
   "metadata": {},
   "source": [
    "## 最大正方形\n",
    "\n",
    "满足正方形的条件是，小正方形的下方、右方及对角方都有点存在"
   ]
  },
  {
   "cell_type": "code",
   "execution_count": null,
   "metadata": {},
   "outputs": [],
   "source": [
    "class Solution:\n",
    "    def maximalSquare(self, matrix: List[List[str]]) -> int:\n",
    "        if not matrix:\n",
    "            return 0 \n",
    "        \n",
    "        rows = len(matrix)\n",
    "        cols = len(matrix[0])\n",
    "        \n",
    "        dp = [[0]*(cols+1) for _ in range(rows+1)]\n",
    "        max_side = 0\n",
    "        \n",
    "        for r in range(rows):\n",
    "            for c in range(cols):\n",
    "                if matrix[r][c] == '1':\n",
    "                    dp[r+1][c+1] = min(dp[r][c], dp[r+1][c], \n",
    "                    dp[r][c+1]) + 1\n",
    "                    max_side = max(max_side, dp[r+1][c+1])\n",
    "                \n",
    "        return max_side * max_side"
   ]
  },
  {
   "cell_type": "markdown",
   "metadata": {},
   "source": [
    "## 最小路径和\n",
    "\n",
    "子问题：一个点，可由左边的点以及上面的点到达\n",
    "\n",
    "状态定义：采用二维数组表示其位置 dp[i][j] 值为到达它的路径\n",
    "\n",
    "dp方程: dp[i][j] = min(dp[i-1][j],dp[i][j-1]) + grid[i][j] "
   ]
  },
  {
   "cell_type": "code",
   "execution_count": null,
   "metadata": {},
   "outputs": [],
   "source": [
    "#转自https://leetcode.com/problems/minimum-path-sum/discuss/23466/Simple-python-dp-70ms\n",
    "#时间复杂度:O(mn) 空间复杂度：就地改变，O（1）\n",
    "\n",
    "class Solution:\n",
    "    def minPathSum(self, grid: List[List[int]]) -> int:\n",
    "        r = len(grid)\n",
    "        c = len(grid[0])\n",
    "\n",
    "        for i in range(1,c):\n",
    "            grid[0][i] += grid[0][i-1]\n",
    "        \n",
    "        for i in range(1,r):\n",
    "            grid[i][0] += grid[i-1][0]\n",
    "        \n",
    "        for i in range(1,r):\n",
    "            for j in range(1,c):\n",
    "                grid[i][j] += min(grid[i-1][j],grid[i][j-1]) \n",
    "        return grid[-1][-1]"
   ]
  },
  {
   "cell_type": "markdown",
   "metadata": {},
   "source": [
    "### 解码方法\n",
    "\n",
    "实质是分割方法，一串长为n的数字，分割成单个数字，要求该数字非零，若是两位数，则两位要在11-26\n",
    "\n",
    "子问题：假设str共有n位数，那么str[:n]就是str[:n-1] + 1 (如果第n位数不为0) + 1 （如果第n-1位第n位 在 10-26 zhijian）\n",
    "状态定义:d[i] 第i个数有几种编码方法\n",
    "dp方程: dp[i] = dp[i-1] + 1 if str[i] > 0 + 1 if 10*str[i-1] + str[i] betweent 10 and 26 \n",
    "\n",
    "误会了题目意思，以上方法错误\n",
    "\n",
    "'23422'的方法可认为是: '2342'与一个‘2’以及‘234’与一个‘22’  \n",
    "而对于两位数如 ‘12’:'1'与一个‘2’以及‘’与一个‘12’，将空字符也看成一种情况\n",
    "\n",
    "那如果是 ‘230000’的话因为两个if条件都不符合，那么直接保留初始化值0"
   ]
  },
  {
   "cell_type": "code",
   "execution_count": 2,
   "metadata": {},
   "outputs": [],
   "source": [
    "#转自https://leetcode.com/problems/decode-ways/discuss/253018/Python%3A-Easy-to-understand-explanation-bottom-up-dynamic-programming\n",
    "class Solution:\n",
    "    def numDecodings(self, s: str) -> int:\n",
    "        if not s or s[0] == '0':\n",
    "            return 0\n",
    "        n = len(s)\n",
    "        dp = [0] * (n+1)\n",
    "        dp[0:2] = [1,1]\n",
    "        for i in range(2,n+1):\n",
    "            if int(s[i-1]) > 0 :\n",
    "                dp[i] = dp[i-1]\n",
    "            if 10<=int(s[i-2:i]) <=26:\n",
    "                dp[i] += dp[i-2]\n",
    "        return dp[-1]"
   ]
  },
  {
   "cell_type": "code",
   "execution_count": null,
   "metadata": {},
   "outputs": [],
   "source": []
  }
 ],
 "metadata": {
  "kernelspec": {
   "display_name": "Python 3",
   "language": "python",
   "name": "python3"
  },
  "language_info": {
   "codemirror_mode": {
    "name": "ipython",
    "version": 3
   },
   "file_extension": ".py",
   "mimetype": "text/x-python",
   "name": "python",
   "nbconvert_exporter": "python",
   "pygments_lexer": "ipython3",
   "version": "3.6.10"
  }
 },
 "nbformat": 4,
 "nbformat_minor": 4
}
